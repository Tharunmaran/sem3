{
 "cells": [
  {
   "cell_type": "code",
   "execution_count": 3,
   "id": "845c276f",
   "metadata": {},
   "outputs": [
    {
     "ename": "SyntaxError",
     "evalue": "invalid syntax (941521364.py, line 13)",
     "output_type": "error",
     "traceback": [
      "\u001b[1;36m  Cell \u001b[1;32mIn[3], line 13\u001b[1;36m\u001b[0m\n\u001b[1;33m    elif choice2 =\"3\":\u001b[0m\n\u001b[1;37m                 ^\u001b[0m\n\u001b[1;31mSyntaxError\u001b[0m\u001b[1;31m:\u001b[0m invalid syntax\n"
     ]
    }
   ],
   "source": [
    "import time\n",
    "print(\"\\t welcome to Mn smartphone\\t\\t\")\n",
    "print(\"\\t if u have any problem with your phone?(yes or no)\\n\")\n",
    "choice1=input(\"you:\")\n",
    "\n",
    "if choice1 == \"yes\":\n",
    "    print(\"\\n enter the type of fault listed down below:\\n1. button problems\\n2. display problem\\n3. no issues\")\n",
    "    choice2 =input(\"\\nenter here(numbers only):\")\n",
    "    \n",
    "    if choice2> \"3\" or choice2<\"1\":\n",
    "        print(\"\\n please enter valid option:\")\n",
    "        \n",
    "    elif choice2 =\"3\":\n",
    "        print(\"..........\")\n",
    "    \n",
    "    elif choice2 =\"2\":\n",
    "        print(\"\\n check your buttons are clean and free to press\")"
   ]
  },
  {
   "cell_type": "code",
   "execution_count": null,
   "id": "b784a015",
   "metadata": {},
   "outputs": [],
   "source": []
  }
 ],
 "metadata": {
  "kernelspec": {
   "display_name": "Python 3 (ipykernel)",
   "language": "python",
   "name": "python3"
  },
  "language_info": {
   "codemirror_mode": {
    "name": "ipython",
    "version": 3
   },
   "file_extension": ".py",
   "mimetype": "text/x-python",
   "name": "python",
   "nbconvert_exporter": "python",
   "pygments_lexer": "ipython3",
   "version": "3.9.16"
  }
 },
 "nbformat": 4,
 "nbformat_minor": 5
}
