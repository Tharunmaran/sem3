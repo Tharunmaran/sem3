{
 "cells": [
  {
   "cell_type": "code",
   "execution_count": 11,
   "id": "a91155ff",
   "metadata": {},
   "outputs": [],
   "source": [
    "from protopunica import* "
   ]
  },
  {
   "cell_type": "code",
   "execution_count": 12,
   "id": "be434ad4",
   "metadata": {},
   "outputs": [],
   "source": [
    "import numpy as np"
   ]
  },
  {
   "cell_type": "code",
   "execution_count": 13,
   "id": "4bd681a8",
   "metadata": {},
   "outputs": [],
   "source": [
    "start=DiscreteDistribution({\"pizza\":1,\"veg\":0})"
   ]
  },
  {
   "cell_type": "code",
   "execution_count": 14,
   "id": "6561a5d0",
   "metadata": {},
   "outputs": [],
   "source": [
    "Transitions=ConditionalProbabilityTable([\n",
    "    [\"pizza\",\"pizza\",0.75],\n",
    "    [\"pizza\",\"veg\",0.25],\n",
    "    [\"veg\",\"veg\",0.6],\n",
    "    [\"veg\",\"pizza\",0.4]\n",
    "],[start])"
   ]
  },
  {
   "cell_type": "code",
   "execution_count": 24,
   "id": "ba54159e",
   "metadata": {},
   "outputs": [],
   "source": [
    "Model=MarkovChain([start,Transitions])"
   ]
  },
  {
   "cell_type": "code",
   "execution_count": 40,
   "id": "dda2115b",
   "metadata": {},
   "outputs": [
    {
     "name": "stdout",
     "output_type": "stream",
     "text": [
      "['pizza', 'veg', 'veg']\n"
     ]
    }
   ],
   "source": [
    "Random_samples=Model.sample(3)\n",
    "print(Random_samples)"
   ]
  },
  {
   "cell_type": "code",
   "execution_count": 41,
   "id": "72b58c82",
   "metadata": {},
   "outputs": [
    {
     "data": {
      "text/plain": [
       "0.15"
      ]
     },
     "execution_count": 41,
     "metadata": {},
     "output_type": "execute_result"
    }
   ],
   "source": [
    "log_probability=Model.log_probability(Random_samples)\n",
    "Probability_of_occurance=np.exp(log_probability)\n",
    "Probability_of_occurance"
   ]
  },
  {
   "cell_type": "code",
   "execution_count": 49,
   "id": "26496bce",
   "metadata": {},
   "outputs": [],
   "source": [
    "log_probability_Food_sequence=Model.log_probability([\"pizza\",\"veg\",\"pizza\"])\n",
    "probability_of_food=np.exp(log_probability_Food_sequence)\n"
   ]
  },
  {
   "cell_type": "code",
   "execution_count": 50,
   "id": "4fcf4707",
   "metadata": {},
   "outputs": [
    {
     "name": "stdout",
     "output_type": "stream",
     "text": [
      "0.10000000000000002\n"
     ]
    }
   ],
   "source": [
    "print(probability_of_food)"
   ]
  },
  {
   "cell_type": "code",
   "execution_count": null,
   "id": "8a5f486e",
   "metadata": {},
   "outputs": [],
   "source": []
  }
 ],
 "metadata": {
  "kernelspec": {
   "display_name": "Python 3 (ipykernel)",
   "language": "python",
   "name": "python3"
  },
  "language_info": {
   "codemirror_mode": {
    "name": "ipython",
    "version": 3
   },
   "file_extension": ".py",
   "mimetype": "text/x-python",
   "name": "python",
   "nbconvert_exporter": "python",
   "pygments_lexer": "ipython3",
   "version": "3.9.16"
  }
 },
 "nbformat": 4,
 "nbformat_minor": 5
}
